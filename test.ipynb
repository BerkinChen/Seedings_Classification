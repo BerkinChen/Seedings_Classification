{
 "cells": [
  {
   "cell_type": "code",
   "execution_count": 1,
   "metadata": {},
   "outputs": [
    {
     "name": "stderr",
     "output_type": "stream",
     "text": [
      "/home/disk3/cbq/anaconda3/envs/drug/lib/python3.8/site-packages/tqdm/auto.py:22: TqdmWarning: IProgress not found. Please update jupyter and ipywidgets. See https://ipywidgets.readthedocs.io/en/stable/user_install.html\n",
      "  from .autonotebook import tqdm as notebook_tqdm\n"
     ]
    }
   ],
   "source": [
    "import warnings\n",
    "import matplotlib.pyplot as plt\n",
    "\n",
    "import cv2\n",
    "from dataset import TrainDataset, TestDataset\n",
    "from skimage.feature import SIFT,hog\n",
    "warnings.filterwarnings('ignore')\n",
    "train_dataset = TrainDataset(transform=None)\n",
    "test_dataset = TestDataset(transform=None)"
   ]
  },
  {
   "cell_type": "code",
   "execution_count": 24,
   "metadata": {},
   "outputs": [],
   "source": [
    "from skimage.feature import hog\n",
    "import numpy as np\n",
    "features = []\n",
    "sift = cv2.SIFT.create(100)\n",
    "for i in range(3):\n",
    "    img = cv2.cvtColor(test_dataset[i],cv2.COLOR_RGB2GRAY)\n",
    "    kp, des = sift.detectAndCompute(img,None)\n",
    "    #features.append(hog(img))\n",
    "    features.append(np.resize(des.reshape(-1),12800))\n",
    "    "
   ]
  },
  {
   "cell_type": "code",
   "execution_count": 25,
   "metadata": {},
   "outputs": [
    {
     "name": "stdout",
     "output_type": "stream",
     "text": [
      "[[18.  4. 23. ... 37.  1.  2.]\n",
      " [ 0.  0.  0. ...  0.  0.  0.]\n",
      " [29.  6. 15. ...  0.  0.  0.]]\n"
     ]
    }
   ],
   "source": [
    "print(np.array(features))"
   ]
  },
  {
   "cell_type": "code",
   "execution_count": 26,
   "metadata": {},
   "outputs": [
    {
     "data": {
      "text/plain": [
       "(3, 12800)"
      ]
     },
     "execution_count": 26,
     "metadata": {},
     "output_type": "execute_result"
    }
   ],
   "source": [
    "features = np.array(features)\n",
    "features.shape"
   ]
  },
  {
   "cell_type": "code",
   "execution_count": 146,
   "metadata": {},
   "outputs": [
    {
     "name": "stdout",
     "output_type": "stream",
     "text": [
      "(4, 72900)\n"
     ]
    }
   ],
   "source": [
    "import numpy as np\n",
    "a = np.array(features)\n",
    "b = np.array(np.resize(a[0],(72900))).reshape(1,-1)\n",
    "for i in range(3):\n",
    "    a[i] = np.resize(a[i],(1,72900))\n",
    "    if i != 0:\n",
    "        b = np.append(b,a[i],axis=0)\n",
    "print(b.shape)"
   ]
  }
 ],
 "metadata": {
  "interpreter": {
   "hash": "6a1828393eba1c42e36922153960567bca157558b4579169094133383e87c713"
  },
  "kernelspec": {
   "display_name": "Python 3.8.13 ('drug')",
   "language": "python",
   "name": "python3"
  },
  "language_info": {
   "codemirror_mode": {
    "name": "ipython",
    "version": 3
   },
   "file_extension": ".py",
   "mimetype": "text/x-python",
   "name": "python",
   "nbconvert_exporter": "python",
   "pygments_lexer": "ipython3",
   "version": "3.8.13"
  },
  "orig_nbformat": 4
 },
 "nbformat": 4,
 "nbformat_minor": 2
}
